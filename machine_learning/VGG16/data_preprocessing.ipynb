{
 "cells": [
  {
   "cell_type": "code",
   "execution_count": 10,
   "metadata": {},
   "outputs": [],
   "source": [
    "from PIL import Image\n",
    "import os, glob\n",
    "import numpy as np\n",
    "import random, math\n",
    "import shutil"
   ]
  },
  {
   "cell_type": "code",
   "execution_count": 11,
   "metadata": {},
   "outputs": [],
   "source": [
    "root_dir = './data/'\n",
    "categories = ['curry','gyudon','ramen']\n",
    "nb_classes = len(categories)\n",
    "image_size = 224"
   ]
  },
  {
   "cell_type": "code",
   "execution_count": 12,
   "metadata": {},
   "outputs": [],
   "source": [
    "#ディレクトリーごとにファイルを収集する\n",
    "train_dir = './data/train'\n",
    "test_dir = './data/test'\n",
    "\n",
    "for idx, cat in enumerate(categories):\n",
    "    image_dir = root_dir + cat\n",
    "    files = glob.glob(image_dir + '/*.jpg')\n",
    "    #シャッフル\n",
    "    random.shuffle(files)\n",
    "    MATH = math.floor(len(files)*0.8)\n",
    "    train = files[0:MATH]\n",
    "    test = files[MATH:]\n",
    "    train_dir_cat = train_dir + '/' + str(idx + 1)\n",
    "    test_dir_cat = test_dir + '/' + str(idx + 1)\n",
    "    if not os.path.exists(train_dir_cat):\n",
    "        os.makedirs(train_dir_cat)\n",
    "    if not os.path.exists(test_dir_cat):\n",
    "        os.makedirs(test_dir_cat)\n",
    "    for f in train:\n",
    "        shutil.move(f, train_dir_cat)\n",
    "    for f in test:\n",
    "        shutil.move(f, test_dir_cat)"
   ]
  }
 ],
 "metadata": {
  "kernelspec": {
   "display_name": "Python 3",
   "language": "python",
   "name": "python3"
  },
  "language_info": {
   "codemirror_mode": {
    "name": "ipython",
    "version": 3
   },
   "file_extension": ".py",
   "mimetype": "text/x-python",
   "name": "python",
   "nbconvert_exporter": "python",
   "pygments_lexer": "ipython3",
   "version": "3.7.3"
  }
 },
 "nbformat": 4,
 "nbformat_minor": 2
}
