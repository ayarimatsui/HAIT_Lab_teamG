{
 "cells": [
  {
   "cell_type": "code",
   "execution_count": null,
   "metadata": {
    "colab": {
     "base_uri": "https://localhost:8080/",
     "height": 136
    },
    "colab_type": "code",
    "id": "QwdS9VzWYuxb",
    "outputId": "3a6cbe22-7d89-4375-a4f2-3d1a5d98da5e"
   },
   "outputs": [],
   "source": [
    "!apt-get install -y -qq software-properties-common python-software-properties module-init-tools\n",
    "!add-apt-repository -y ppa:alessandro-strada/ppa 2>&1 > /dev/null\n",
    "!apt-get update -qq 2>&1 > /dev/null\n",
    "!apt-get -y install -qq google-drive-ocamlfuse fuse"
   ]
  },
  {
   "cell_type": "code",
   "execution_count": 0,
   "metadata": {
    "colab": {},
    "colab_type": "code",
    "id": "Iwfjbmuk4nnp"
   },
   "outputs": [],
   "source": [
    "from google.colab import auth\n",
    "auth.authenticate_user()\n",
    "from oauth2client.client import GoogleCredentials\n",
    "creds = GoogleCredentials.get_application_default()"
   ]
  },
  {
   "cell_type": "code",
   "execution_count": null,
   "metadata": {
    "colab": {
     "base_uri": "https://localhost:8080/",
     "height": 105
    },
    "colab_type": "code",
    "id": "FE4ysUhg4yZj",
    "outputId": "e2bf11e9-fc7e-47b0-aa34-23cb4d3ddaf4"
   },
   "outputs": [],
   "source": [
    "import getpass\n",
    "!google-drive-ocamlfuse -headless -id={creds.client_id} -secret={creds.client_secret} < /dev/null 2>&1 | grep URL\n",
    "vcode = getpass.getpass()\n",
    "!echo {vcode} | google-drive-ocamlfuse -headless -id={creds.client_id} -secret={creds.client_secret}"
   ]
  },
  {
   "cell_type": "code",
   "execution_count": null,
   "metadata": {
    "colab": {
     "base_uri": "https://localhost:8080/",
     "height": 1000
    },
    "colab_type": "code",
    "id": "GcUEFGTt49Qf",
    "outputId": "d28a97a6-0176-4916-e1a7-b01080049bcf"
   },
   "outputs": [],
   "source": [
    "!mkdir -p drive\n",
    "!google-drive-ocamlfuse drive\n",
    "!ls drive"
   ]
  },
  {
   "cell_type": "code",
   "execution_count": 5,
   "metadata": {
    "colab": {
     "base_uri": "https://localhost:8080/",
     "height": 80
    },
    "colab_type": "code",
    "id": "VtnVZt9K9GJM",
    "outputId": "7d328b7b-ce32-4048-8b99-04eb289c1de9"
   },
   "outputs": [
    {
     "name": "stderr",
     "output_type": "stream",
     "text": [
      "Using TensorFlow backend.\n"
     ]
    },
    {
     "data": {
      "text/html": [
       "<p style=\"color: red;\">\n",
       "The default version of TensorFlow in Colab will soon switch to TensorFlow 2.x.<br>\n",
       "We recommend you <a href=\"https://www.tensorflow.org/guide/migrate\" target=\"_blank\">upgrade</a> now \n",
       "or ensure your notebook will continue to use TensorFlow 1.x via the <code>%tensorflow_version 1.x</code> magic:\n",
       "<a href=\"https://colab.research.google.com/notebooks/tensorflow_version.ipynb\" target=\"_blank\">more info</a>.</p>\n"
      ],
      "text/plain": [
       "<IPython.core.display.HTML object>"
      ]
     },
     "metadata": {
      "tags": []
     },
     "output_type": "display_data"
    }
   ],
   "source": [
    "import keras\n",
    "from keras.applications import VGG16\n",
    "from keras.models import Sequential, load_model\n",
    "from keras import models, optimizers\n",
    "from keras.optimizers import SGD\n",
    "from keras.layers import Input, Dense, Dropout, Activation, Flatten\n",
    "from keras.preprocessing.image import load_img, ImageDataGenerator\n",
    "from keras.callbacks import CSVLogger, ModelCheckpoint"
   ]
  },
  {
   "cell_type": "code",
   "execution_count": 6,
   "metadata": {
    "colab": {
     "base_uri": "https://localhost:8080/",
     "height": 802
    },
    "colab_type": "code",
    "id": "TbzuZf1Y-FeU",
    "outputId": "d5c8c5e7-9098-42c8-fb79-7ee9bcab7404"
   },
   "outputs": [
    {
     "name": "stdout",
     "output_type": "stream",
     "text": [
      "WARNING:tensorflow:From /usr/local/lib/python3.6/dist-packages/keras/backend/tensorflow_backend.py:66: The name tf.get_default_graph is deprecated. Please use tf.compat.v1.get_default_graph instead.\n",
      "\n",
      "WARNING:tensorflow:From /usr/local/lib/python3.6/dist-packages/keras/backend/tensorflow_backend.py:541: The name tf.placeholder is deprecated. Please use tf.compat.v1.placeholder instead.\n",
      "\n",
      "WARNING:tensorflow:From /usr/local/lib/python3.6/dist-packages/keras/backend/tensorflow_backend.py:4432: The name tf.random_uniform is deprecated. Please use tf.random.uniform instead.\n",
      "\n",
      "WARNING:tensorflow:From /usr/local/lib/python3.6/dist-packages/keras/backend/tensorflow_backend.py:4267: The name tf.nn.max_pool is deprecated. Please use tf.nn.max_pool2d instead.\n",
      "\n",
      "Downloading data from https://github.com/fchollet/deep-learning-models/releases/download/v0.1/vgg16_weights_tf_dim_ordering_tf_kernels_notop.h5\n",
      "58892288/58889256 [==============================] - 6s 0us/step\n",
      "WARNING:tensorflow:From /usr/local/lib/python3.6/dist-packages/keras/backend/tensorflow_backend.py:190: The name tf.get_default_session is deprecated. Please use tf.compat.v1.get_default_session instead.\n",
      "\n",
      "WARNING:tensorflow:From /usr/local/lib/python3.6/dist-packages/keras/backend/tensorflow_backend.py:197: The name tf.ConfigProto is deprecated. Please use tf.compat.v1.ConfigProto instead.\n",
      "\n",
      "WARNING:tensorflow:From /usr/local/lib/python3.6/dist-packages/keras/backend/tensorflow_backend.py:203: The name tf.Session is deprecated. Please use tf.compat.v1.Session instead.\n",
      "\n",
      "WARNING:tensorflow:From /usr/local/lib/python3.6/dist-packages/keras/backend/tensorflow_backend.py:207: The name tf.global_variables is deprecated. Please use tf.compat.v1.global_variables instead.\n",
      "\n",
      "WARNING:tensorflow:From /usr/local/lib/python3.6/dist-packages/keras/backend/tensorflow_backend.py:216: The name tf.is_variable_initialized is deprecated. Please use tf.compat.v1.is_variable_initialized instead.\n",
      "\n",
      "WARNING:tensorflow:From /usr/local/lib/python3.6/dist-packages/keras/backend/tensorflow_backend.py:223: The name tf.variables_initializer is deprecated. Please use tf.compat.v1.variables_initializer instead.\n",
      "\n",
      "WARNING:tensorflow:From /usr/local/lib/python3.6/dist-packages/keras/backend/tensorflow_backend.py:148: The name tf.placeholder_with_default is deprecated. Please use tf.compat.v1.placeholder_with_default instead.\n",
      "\n",
      "WARNING:tensorflow:From /usr/local/lib/python3.6/dist-packages/keras/backend/tensorflow_backend.py:3733: calling dropout (from tensorflow.python.ops.nn_ops) with keep_prob is deprecated and will be removed in a future version.\n",
      "Instructions for updating:\n",
      "Please use `rate` instead of `keep_prob`. Rate should be set to `rate = 1 - keep_prob`.\n",
      "Model: \"sequential_1\"\n",
      "_________________________________________________________________\n",
      "Layer (type)                 Output Shape              Param #   \n",
      "=================================================================\n",
      "vgg16 (Model)                (None, 7, 7, 512)         14714688  \n",
      "_________________________________________________________________\n",
      "flatten_1 (Flatten)          (None, 25088)             0         \n",
      "_________________________________________________________________\n",
      "dense_1 (Dense)              (None, 1024)              25691136  \n",
      "_________________________________________________________________\n",
      "dropout_1 (Dropout)          (None, 1024)              0         \n",
      "_________________________________________________________________\n",
      "dense_2 (Dense)              (None, 3)                 3075      \n",
      "=================================================================\n",
      "Total params: 40,408,899\n",
      "Trainable params: 32,773,635\n",
      "Non-trainable params: 7,635,264\n",
      "_________________________________________________________________\n"
     ]
    }
   ],
   "source": [
    "image_size = 224\n",
    "\n",
    "vgg_conv = VGG16(weights='imagenet', include_top=False, input_shape=(image_size, image_size, 3))\n",
    "for layer in vgg_conv.layers[:-4]:\n",
    "    layer.trainable = False\n",
    "\n",
    "model = models.Sequential()\n",
    "model.add(vgg_conv)\n",
    "\n",
    "model.add(Flatten())\n",
    "model.add(Dense(1024, activation='relu'))\n",
    "model.add(Dropout(0.5))\n",
    "model.add(Dense(3, activation='softmax'))\n",
    "\n",
    "model.summary()"
   ]
  },
  {
   "cell_type": "code",
   "execution_count": 7,
   "metadata": {
    "colab": {
     "base_uri": "https://localhost:8080/",
     "height": 119
    },
    "colab_type": "code",
    "id": "mheviy7GHto_",
    "outputId": "2748b73b-3813-4700-8ac8-99ce8fc13f61"
   },
   "outputs": [
    {
     "name": "stdout",
     "output_type": "stream",
     "text": [
      "Found 744 images belonging to 3 classes.\n",
      "Found 188 images belonging to 3 classes.\n",
      "WARNING:tensorflow:From /usr/local/lib/python3.6/dist-packages/keras/optimizers.py:793: The name tf.train.Optimizer is deprecated. Please use tf.compat.v1.train.Optimizer instead.\n",
      "\n",
      "WARNING:tensorflow:From /usr/local/lib/python3.6/dist-packages/keras/backend/tensorflow_backend.py:3576: The name tf.log is deprecated. Please use tf.math.log instead.\n",
      "\n"
     ]
    }
   ],
   "source": [
    "batch_size = 32\n",
    "train_dir = 'drive/Colab Notebooks/data/train'\n",
    "test_dir = 'drive/Colab Notebooks/data/test'\n",
    "\n",
    "train_datagen = ImageDataGenerator(\n",
    "    rescale = 1.0 / 255,\n",
    "    rotation_range = 20,\n",
    "    width_shift_range = 0.2,\n",
    "    height_shift_range = 0.2,\n",
    "    horizontal_flip = True\n",
    ")\n",
    "\n",
    "validation_datagen = ImageDataGenerator(rescale = 1.0 / 255)\n",
    "\n",
    "train_generator = train_datagen.flow_from_directory(\n",
    "    train_dir,\n",
    "    target_size = (image_size, image_size),\n",
    "    batch_size = batch_size,\n",
    "    class_mode = 'categorical',\n",
    "    shuffle = True\n",
    ")\n",
    "\n",
    "validation_generator = validation_datagen.flow_from_directory(\n",
    "    test_dir,\n",
    "    target_size = (image_size, image_size),\n",
    "    batch_size = batch_size,\n",
    "    class_mode = 'categorical',\n",
    "    shuffle = True\n",
    ")\n",
    "\n",
    "model.compile(loss = 'categorical_crossentropy',\n",
    "              optimizer = optimizers.SGD(lr=1e-4, momentum=0.9),\n",
    "              metrics = ['accuracy'])"
   ]
  },
  {
   "cell_type": "code",
   "execution_count": 11,
   "metadata": {
    "colab": {
     "base_uri": "https://localhost:8080/",
     "height": 1000
    },
    "colab_type": "code",
    "id": "b9GiTAk0I4Xk",
    "outputId": "589d1ca1-cb72-4601-b1cc-4e1d7b5070ca"
   },
   "outputs": [
    {
     "name": "stdout",
     "output_type": "stream",
     "text": [
      "Epoch 1/100\n",
      "24/24 [==============================] - 25s 1s/step - loss: 0.9150 - acc: 0.5715 - val_loss: 0.7039 - val_acc: 0.7394\n",
      "Epoch 2/100\n",
      "24/24 [==============================] - 11s 468ms/step - loss: 0.7676 - acc: 0.6796 - val_loss: 0.7208 - val_acc: 0.6702\n",
      "Epoch 3/100\n",
      "24/24 [==============================] - 11s 470ms/step - loss: 0.6983 - acc: 0.6992 - val_loss: 0.5144 - val_acc: 0.8138\n",
      "Epoch 4/100\n",
      "24/24 [==============================] - 11s 465ms/step - loss: 0.6179 - acc: 0.7396 - val_loss: 0.4458 - val_acc: 0.8564\n",
      "Epoch 5/100\n",
      "24/24 [==============================] - 13s 533ms/step - loss: 0.5843 - acc: 0.7539 - val_loss: 0.4060 - val_acc: 0.8723\n",
      "Epoch 6/100\n",
      "24/24 [==============================] - 12s 481ms/step - loss: 0.5649 - acc: 0.7736 - val_loss: 0.3871 - val_acc: 0.8723\n",
      "Epoch 7/100\n",
      "24/24 [==============================] - 11s 474ms/step - loss: 0.5297 - acc: 0.7942 - val_loss: 0.3394 - val_acc: 0.8936\n",
      "Epoch 8/100\n",
      "24/24 [==============================] - 11s 470ms/step - loss: 0.4901 - acc: 0.7994 - val_loss: 0.3065 - val_acc: 0.8830\n",
      "Epoch 9/100\n",
      "24/24 [==============================] - 11s 475ms/step - loss: 0.4717 - acc: 0.8163 - val_loss: 0.2860 - val_acc: 0.9202\n",
      "Epoch 10/100\n",
      "24/24 [==============================] - 12s 511ms/step - loss: 0.4523 - acc: 0.8113 - val_loss: 0.2833 - val_acc: 0.8989\n",
      "Epoch 11/100\n",
      "24/24 [==============================] - 11s 475ms/step - loss: 0.4035 - acc: 0.8492 - val_loss: 0.2642 - val_acc: 0.9202\n",
      "Epoch 12/100\n",
      "24/24 [==============================] - 12s 481ms/step - loss: 0.3823 - acc: 0.8659 - val_loss: 0.2779 - val_acc: 0.8936\n",
      "Epoch 13/100\n",
      "24/24 [==============================] - 12s 488ms/step - loss: 0.3519 - acc: 0.8735 - val_loss: 0.2468 - val_acc: 0.9149\n",
      "Epoch 14/100\n",
      "24/24 [==============================] - 12s 501ms/step - loss: 0.3402 - acc: 0.8631 - val_loss: 0.2240 - val_acc: 0.9149\n",
      "Epoch 15/100\n",
      "24/24 [==============================] - 13s 551ms/step - loss: 0.3057 - acc: 0.8841 - val_loss: 0.2322 - val_acc: 0.9096\n",
      "Epoch 16/100\n",
      "24/24 [==============================] - 12s 502ms/step - loss: 0.3303 - acc: 0.8843 - val_loss: 0.2003 - val_acc: 0.9362\n",
      "Epoch 17/100\n",
      "24/24 [==============================] - 12s 496ms/step - loss: 0.3155 - acc: 0.8788 - val_loss: 0.2047 - val_acc: 0.9255\n",
      "Epoch 18/100\n",
      "24/24 [==============================] - 12s 498ms/step - loss: 0.2872 - acc: 0.8959 - val_loss: 0.1957 - val_acc: 0.9362\n",
      "Epoch 19/100\n",
      "24/24 [==============================] - 12s 499ms/step - loss: 0.3170 - acc: 0.8962 - val_loss: 0.2288 - val_acc: 0.9202\n",
      "Epoch 20/100\n",
      "24/24 [==============================] - 14s 576ms/step - loss: 0.2872 - acc: 0.8972 - val_loss: 0.1911 - val_acc: 0.9255\n",
      "Epoch 21/100\n",
      "24/24 [==============================] - 12s 505ms/step - loss: 0.2703 - acc: 0.8986 - val_loss: 0.1924 - val_acc: 0.9309\n",
      "Epoch 22/100\n",
      "24/24 [==============================] - 12s 510ms/step - loss: 0.2696 - acc: 0.9074 - val_loss: 0.1776 - val_acc: 0.9309\n",
      "Epoch 23/100\n",
      "24/24 [==============================] - 12s 502ms/step - loss: 0.2498 - acc: 0.9076 - val_loss: 0.1811 - val_acc: 0.9362\n",
      "Epoch 24/100\n",
      "24/24 [==============================] - 12s 498ms/step - loss: 0.2463 - acc: 0.9089 - val_loss: 0.2114 - val_acc: 0.9096\n",
      "Epoch 25/100\n",
      "24/24 [==============================] - 14s 595ms/step - loss: 0.2359 - acc: 0.9143 - val_loss: 0.1696 - val_acc: 0.9255\n",
      "Epoch 26/100\n",
      "24/24 [==============================] - 12s 509ms/step - loss: 0.2552 - acc: 0.9011 - val_loss: 0.1663 - val_acc: 0.9309\n",
      "Epoch 27/100\n",
      "24/24 [==============================] - 12s 505ms/step - loss: 0.2263 - acc: 0.9115 - val_loss: 0.1751 - val_acc: 0.9468\n",
      "Epoch 28/100\n",
      "24/24 [==============================] - 12s 498ms/step - loss: 0.2003 - acc: 0.9193 - val_loss: 0.1619 - val_acc: 0.9255\n",
      "Epoch 29/100\n",
      "24/24 [==============================] - 12s 508ms/step - loss: 0.2096 - acc: 0.9205 - val_loss: 0.2509 - val_acc: 0.9149\n",
      "Epoch 30/100\n",
      "24/24 [==============================] - 15s 606ms/step - loss: 0.1861 - acc: 0.9348 - val_loss: 0.1620 - val_acc: 0.9309\n",
      "Epoch 31/100\n",
      "24/24 [==============================] - 12s 508ms/step - loss: 0.2171 - acc: 0.9156 - val_loss: 0.1697 - val_acc: 0.9309\n",
      "Epoch 32/100\n",
      "24/24 [==============================] - 12s 503ms/step - loss: 0.1777 - acc: 0.9350 - val_loss: 0.1759 - val_acc: 0.9202\n",
      "Epoch 33/100\n",
      "24/24 [==============================] - 12s 505ms/step - loss: 0.1704 - acc: 0.9374 - val_loss: 0.1635 - val_acc: 0.9309\n",
      "Epoch 34/100\n",
      "24/24 [==============================] - 14s 583ms/step - loss: 0.1684 - acc: 0.9413 - val_loss: 0.1677 - val_acc: 0.9255\n",
      "Epoch 35/100\n",
      "24/24 [==============================] - 12s 495ms/step - loss: 0.1876 - acc: 0.9273 - val_loss: 0.1790 - val_acc: 0.9202\n",
      "Epoch 36/100\n",
      "24/24 [==============================] - 12s 485ms/step - loss: 0.1658 - acc: 0.9505 - val_loss: 0.1650 - val_acc: 0.9362\n",
      "Epoch 37/100\n",
      "24/24 [==============================] - 11s 477ms/step - loss: 0.1718 - acc: 0.9350 - val_loss: 0.1648 - val_acc: 0.9309\n",
      "Epoch 38/100\n",
      "24/24 [==============================] - 12s 481ms/step - loss: 0.1664 - acc: 0.9413 - val_loss: 0.1701 - val_acc: 0.9202\n",
      "Epoch 39/100\n",
      "24/24 [==============================] - 12s 489ms/step - loss: 0.1397 - acc: 0.9465 - val_loss: 0.1933 - val_acc: 0.9202\n",
      "Epoch 40/100\n",
      "24/24 [==============================] - 13s 561ms/step - loss: 0.1579 - acc: 0.9518 - val_loss: 0.1940 - val_acc: 0.9149\n",
      "Epoch 41/100\n",
      "24/24 [==============================] - 12s 485ms/step - loss: 0.1335 - acc: 0.9492 - val_loss: 0.1897 - val_acc: 0.9202\n",
      "Epoch 42/100\n",
      "24/24 [==============================] - 12s 484ms/step - loss: 0.1489 - acc: 0.9467 - val_loss: 0.1725 - val_acc: 0.9202\n",
      "Epoch 43/100\n",
      "24/24 [==============================] - 12s 482ms/step - loss: 0.1394 - acc: 0.9557 - val_loss: 0.1743 - val_acc: 0.9255\n",
      "Epoch 44/100\n",
      "24/24 [==============================] - 12s 484ms/step - loss: 0.1346 - acc: 0.9492 - val_loss: 0.1710 - val_acc: 0.9362\n",
      "Epoch 45/100\n",
      "24/24 [==============================] - 13s 527ms/step - loss: 0.1560 - acc: 0.9400 - val_loss: 0.2187 - val_acc: 0.9149\n",
      "Epoch 46/100\n",
      "24/24 [==============================] - 12s 493ms/step - loss: 0.1580 - acc: 0.9467 - val_loss: 0.1597 - val_acc: 0.9468\n",
      "Epoch 47/100\n",
      "24/24 [==============================] - 12s 497ms/step - loss: 0.1208 - acc: 0.9689 - val_loss: 0.2066 - val_acc: 0.9255\n",
      "Epoch 48/100\n",
      "24/24 [==============================] - 12s 482ms/step - loss: 0.1349 - acc: 0.9570 - val_loss: 0.2138 - val_acc: 0.9096\n",
      "Epoch 49/100\n",
      "24/24 [==============================] - 12s 496ms/step - loss: 0.1356 - acc: 0.9505 - val_loss: 0.1889 - val_acc: 0.9255\n",
      "Epoch 50/100\n",
      "24/24 [==============================] - 14s 569ms/step - loss: 0.1225 - acc: 0.9557 - val_loss: 0.2180 - val_acc: 0.9202\n",
      "Epoch 51/100\n",
      "24/24 [==============================] - 12s 488ms/step - loss: 0.1213 - acc: 0.9570 - val_loss: 0.1625 - val_acc: 0.9415\n",
      "Epoch 52/100\n",
      "24/24 [==============================] - 12s 488ms/step - loss: 0.1255 - acc: 0.9478 - val_loss: 0.1639 - val_acc: 0.9255\n",
      "Epoch 53/100\n",
      "24/24 [==============================] - 11s 479ms/step - loss: 0.0904 - acc: 0.9713 - val_loss: 0.1598 - val_acc: 0.9255\n",
      "Epoch 54/100\n",
      "24/24 [==============================] - 12s 483ms/step - loss: 0.0937 - acc: 0.9752 - val_loss: 0.1703 - val_acc: 0.9362\n",
      "Epoch 55/100\n",
      "24/24 [==============================] - 14s 582ms/step - loss: 0.1152 - acc: 0.9597 - val_loss: 0.1625 - val_acc: 0.9415\n",
      "Epoch 56/100\n",
      "24/24 [==============================] - 12s 487ms/step - loss: 0.1211 - acc: 0.9505 - val_loss: 0.1686 - val_acc: 0.9309\n",
      "Epoch 57/100\n",
      "24/24 [==============================] - 12s 482ms/step - loss: 0.1122 - acc: 0.9583 - val_loss: 0.1656 - val_acc: 0.9415\n",
      "Epoch 58/100\n",
      "24/24 [==============================] - 12s 481ms/step - loss: 0.1127 - acc: 0.9635 - val_loss: 0.1520 - val_acc: 0.9309\n",
      "Epoch 59/100\n",
      "24/24 [==============================] - 11s 476ms/step - loss: 0.0909 - acc: 0.9726 - val_loss: 0.1796 - val_acc: 0.9309\n",
      "Epoch 60/100\n",
      "24/24 [==============================] - 13s 534ms/step - loss: 0.0888 - acc: 0.9661 - val_loss: 0.1530 - val_acc: 0.9255\n",
      "Epoch 61/100\n",
      "24/24 [==============================] - 12s 482ms/step - loss: 0.0838 - acc: 0.9713 - val_loss: 0.1589 - val_acc: 0.9255\n",
      "Epoch 62/100\n",
      "24/24 [==============================] - 12s 482ms/step - loss: 0.0937 - acc: 0.9648 - val_loss: 0.1669 - val_acc: 0.9202\n",
      "Epoch 63/100\n",
      "24/24 [==============================] - 12s 486ms/step - loss: 0.0883 - acc: 0.9674 - val_loss: 0.1842 - val_acc: 0.9202\n",
      "Epoch 64/100\n",
      "24/24 [==============================] - 11s 479ms/step - loss: 0.0945 - acc: 0.9715 - val_loss: 0.1810 - val_acc: 0.9309\n",
      "Epoch 65/100\n",
      "24/24 [==============================] - 13s 525ms/step - loss: 0.1007 - acc: 0.9609 - val_loss: 0.1822 - val_acc: 0.9202\n",
      "Epoch 66/100\n",
      "24/24 [==============================] - 12s 482ms/step - loss: 0.0980 - acc: 0.9557 - val_loss: 0.1957 - val_acc: 0.9202\n",
      "Epoch 67/100\n",
      "24/24 [==============================] - 12s 494ms/step - loss: 0.0792 - acc: 0.9700 - val_loss: 0.1789 - val_acc: 0.9202\n",
      "Epoch 68/100\n",
      "24/24 [==============================] - 12s 481ms/step - loss: 0.0861 - acc: 0.9687 - val_loss: 0.1726 - val_acc: 0.9255\n",
      "Epoch 69/100\n",
      "24/24 [==============================] - 12s 483ms/step - loss: 0.0774 - acc: 0.9741 - val_loss: 0.1776 - val_acc: 0.9309\n",
      "Epoch 70/100\n",
      "24/24 [==============================] - 15s 615ms/step - loss: 0.0829 - acc: 0.9778 - val_loss: 0.1917 - val_acc: 0.9362\n",
      "Epoch 71/100\n",
      "24/24 [==============================] - 12s 484ms/step - loss: 0.0684 - acc: 0.9870 - val_loss: 0.1946 - val_acc: 0.9309\n",
      "Epoch 72/100\n",
      "24/24 [==============================] - 12s 487ms/step - loss: 0.0770 - acc: 0.9752 - val_loss: 0.1742 - val_acc: 0.9362\n",
      "Epoch 73/100\n",
      "24/24 [==============================] - 12s 498ms/step - loss: 0.0709 - acc: 0.9778 - val_loss: 0.1808 - val_acc: 0.9149\n",
      "Epoch 74/100\n",
      "24/24 [==============================] - 12s 486ms/step - loss: 0.0718 - acc: 0.9765 - val_loss: 0.1808 - val_acc: 0.9309\n",
      "Epoch 75/100\n",
      "24/24 [==============================] - 14s 582ms/step - loss: 0.0652 - acc: 0.9817 - val_loss: 0.1888 - val_acc: 0.9202\n",
      "Epoch 76/100\n",
      "24/24 [==============================] - 12s 488ms/step - loss: 0.0547 - acc: 0.9857 - val_loss: 0.1847 - val_acc: 0.9309\n",
      "Epoch 77/100\n",
      "24/24 [==============================] - 12s 497ms/step - loss: 0.0858 - acc: 0.9754 - val_loss: 0.1846 - val_acc: 0.9149\n",
      "Epoch 78/100\n",
      "24/24 [==============================] - 12s 482ms/step - loss: 0.0614 - acc: 0.9817 - val_loss: 0.1862 - val_acc: 0.9309\n",
      "Epoch 79/100\n",
      "24/24 [==============================] - 12s 487ms/step - loss: 0.0696 - acc: 0.9817 - val_loss: 0.2052 - val_acc: 0.9043\n",
      "Epoch 80/100\n",
      "24/24 [==============================] - 15s 618ms/step - loss: 0.0797 - acc: 0.9741 - val_loss: 0.1839 - val_acc: 0.9255\n",
      "Epoch 81/100\n",
      "24/24 [==============================] - 12s 487ms/step - loss: 0.0525 - acc: 0.9844 - val_loss: 0.1963 - val_acc: 0.9202\n",
      "Epoch 82/100\n",
      "24/24 [==============================] - 12s 485ms/step - loss: 0.0580 - acc: 0.9741 - val_loss: 0.1840 - val_acc: 0.9415\n",
      "Epoch 83/100\n",
      "24/24 [==============================] - 12s 485ms/step - loss: 0.0603 - acc: 0.9791 - val_loss: 0.1904 - val_acc: 0.9362\n",
      "Epoch 84/100\n",
      "24/24 [==============================] - 12s 490ms/step - loss: 0.0490 - acc: 0.9817 - val_loss: 0.1842 - val_acc: 0.9362\n",
      "Epoch 85/100\n",
      "24/24 [==============================] - 14s 565ms/step - loss: 0.0501 - acc: 0.9819 - val_loss: 0.1984 - val_acc: 0.9468\n",
      "Epoch 86/100\n",
      "24/24 [==============================] - 12s 481ms/step - loss: 0.0517 - acc: 0.9857 - val_loss: 0.1925 - val_acc: 0.9309\n",
      "Epoch 87/100\n",
      "24/24 [==============================] - 12s 489ms/step - loss: 0.0497 - acc: 0.9831 - val_loss: 0.1900 - val_acc: 0.9255\n",
      "Epoch 88/100\n",
      "24/24 [==============================] - 12s 482ms/step - loss: 0.0643 - acc: 0.9804 - val_loss: 0.1843 - val_acc: 0.9255\n",
      "Epoch 89/100\n",
      "24/24 [==============================] - 12s 485ms/step - loss: 0.0452 - acc: 0.9857 - val_loss: 0.1842 - val_acc: 0.9255\n",
      "Epoch 90/100\n",
      "24/24 [==============================] - 15s 609ms/step - loss: 0.0396 - acc: 0.9883 - val_loss: 0.1814 - val_acc: 0.9362\n",
      "Epoch 91/100\n",
      "24/24 [==============================] - 12s 487ms/step - loss: 0.0392 - acc: 0.9948 - val_loss: 0.1851 - val_acc: 0.9309\n",
      "Epoch 92/100\n",
      "24/24 [==============================] - 12s 493ms/step - loss: 0.0722 - acc: 0.9778 - val_loss: 0.1893 - val_acc: 0.9309\n",
      "Epoch 93/100\n",
      "24/24 [==============================] - 12s 490ms/step - loss: 0.0570 - acc: 0.9804 - val_loss: 0.1870 - val_acc: 0.9309\n",
      "Epoch 94/100\n",
      "24/24 [==============================] - 12s 487ms/step - loss: 0.0454 - acc: 0.9857 - val_loss: 0.1890 - val_acc: 0.9255\n",
      "Epoch 95/100\n",
      "24/24 [==============================] - 14s 568ms/step - loss: 0.0385 - acc: 0.9896 - val_loss: 0.1873 - val_acc: 0.9309\n",
      "Epoch 96/100\n",
      "24/24 [==============================] - 12s 486ms/step - loss: 0.0399 - acc: 0.9922 - val_loss: 0.1847 - val_acc: 0.9309\n",
      "Epoch 97/100\n",
      "24/24 [==============================] - 12s 491ms/step - loss: 0.0378 - acc: 0.9870 - val_loss: 0.1877 - val_acc: 0.9309\n",
      "Epoch 98/100\n",
      "24/24 [==============================] - 12s 495ms/step - loss: 0.0409 - acc: 0.9870 - val_loss: 0.1954 - val_acc: 0.9362\n",
      "Epoch 99/100\n",
      "24/24 [==============================] - 12s 493ms/step - loss: 0.0600 - acc: 0.9778 - val_loss: 0.2288 - val_acc: 0.9309\n",
      "Epoch 100/100\n",
      "24/24 [==============================] - 13s 538ms/step - loss: 0.0529 - acc: 0.9831 - val_loss: 0.2077 - val_acc: 0.9362\n"
     ]
    }
   ],
   "source": [
    "csv_logger = CSVLogger('food_recongition.log')\n",
    "hist=model.fit_generator(\n",
    "    train_generator,\n",
    "    epochs=100,\n",
    "    verbose=1,\n",
    "    validation_data=validation_generator,\n",
    "    callbacks=[csv_logger]\n",
    ")\n",
    "\n",
    "#save weights\n",
    "model.save('food_recognition.h5')"
   ]
  },
  {
   "cell_type": "code",
   "execution_count": 0,
   "metadata": {
    "colab": {},
    "colab_type": "code",
    "id": "NMSbtIEUJH5y"
   },
   "outputs": [],
   "source": [
    "model.save('drive/Colab Notebooks/food_recognition.h5')"
   ]
  },
  {
   "cell_type": "code",
   "execution_count": 0,
   "metadata": {
    "colab": {},
    "colab_type": "code",
    "id": "J3yVJGfY1Uv2"
   },
   "outputs": [],
   "source": []
  }
 ],
 "metadata": {
  "accelerator": "GPU",
  "colab": {
   "name": "VGG16model.ipynb",
   "provenance": []
  },
  "kernelspec": {
   "display_name": "Python 3",
   "language": "python",
   "name": "python3"
  },
  "language_info": {
   "codemirror_mode": {
    "name": "ipython",
    "version": 3
   },
   "file_extension": ".py",
   "mimetype": "text/x-python",
   "name": "python",
   "nbconvert_exporter": "python",
   "pygments_lexer": "ipython3",
   "version": "3.7.3"
  }
 },
 "nbformat": 4,
 "nbformat_minor": 1
}
